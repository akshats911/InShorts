{
 "cells": [
  {
   "cell_type": "code",
   "execution_count": 1,
   "metadata": {},
   "outputs": [],
   "source": [
    "import os"
   ]
  },
  {
   "cell_type": "code",
   "execution_count": 1,
   "metadata": {},
   "outputs": [
    {
     "data": {
      "text/plain": [
       "'d:\\\\AkshatOP\\\\InShorts\\\\research'"
      ]
     },
     "execution_count": 1,
     "metadata": {},
     "output_type": "execute_result"
    }
   ],
   "source": [
    "# os.chdir(\"../\")\n",
    "%pwd"
   ]
  },
  {
   "cell_type": "code",
   "execution_count": 2,
   "metadata": {},
   "outputs": [],
   "source": [
    "from dataclasses import dataclass\n",
    "from pathlib import Path\n",
    "\n",
    "@dataclass(frozen=True)\n",
    "class DataIngestionConfig:\n",
    "    root_dir: Path\n",
    "    source_URL : str\n",
    "    local_data_file: Path\n",
    "    unzip_dir: Path"
   ]
  },
  {
   "cell_type": "code",
   "execution_count": 3,
   "metadata": {},
   "outputs": [],
   "source": [
    "from InShorts.constants import *\n",
    "from InShorts.utils.common import read_yaml, create_directiories"
   ]
  },
  {
   "cell_type": "code",
   "execution_count": 32,
   "metadata": {},
   "outputs": [],
   "source": [
    "class ConfigurationManager:\n",
    "    def __init__(self,\n",
    "                 config_filepath = CONFIG_FILE_PATH,\n",
    "                 params_filepath = PARAMS_FILE_PATH):\n",
    "        self.config = read_yaml(config_filepath),\n",
    "        self.params = read_yaml(params_filepath)\n",
    "        create_directiories([self.config[0].artifacts_root])\n",
    "    \n",
    "    def get_data_ingestion_config(self) -> DataIngestionConfig:\n",
    "        # print(self.config[0].data_ingestion)\n",
    "        config = self.config[0].data_ingestion\n",
    "        create_directiories([config.root_dir])\n",
    "        data_ingestion_config = DataIngestionConfig(\n",
    "            root_dir = config.root_dir,\n",
    "            source_URL = config.source_URL,\n",
    "            local_data_file = config.local_data_file,\n",
    "            unzip_dir = config.unzip_dir\n",
    "        )\n",
    "        \n",
    "        return data_ingestion_config\n"
   ]
  },
  {
   "cell_type": "code",
   "execution_count": 56,
   "metadata": {},
   "outputs": [],
   "source": [
    "import os\n",
    "# import urllib.request as request\n",
    "import requests\n",
    "import zipfile\n",
    "from InShorts.logging import logger\n",
    "from InShorts.utils.common import get_size"
   ]
  },
  {
   "cell_type": "code",
   "execution_count": 59,
   "metadata": {},
   "outputs": [],
   "source": [
    "class DataIngestion:\n",
    "    def __init__(self,config: DataIngestionConfig):\n",
    "        self.config = config\n",
    "        # print(self.config.source_URL)\n",
    "    def download_file(self):\n",
    "        if not os.path.exists(self.config.local_data_file):\n",
    "            filename, headers = requests.urlretrieve(\n",
    "                url = self.config.source_URL, \n",
    "                filename = self.config.local_data_file)\n",
    "            logger.info(f\"Downloaded file {filename} with following info: \\n{headers}\")\n",
    "        else:\n",
    "            logger.info(f\"File already exists of size: {get_size(Path(self.config.local_data_file))}\")\n",
    "    \n",
    "    def extract_zip_file(self):\n",
    "        unzip_path = self.config.unzip_dir\n",
    "        os.makedirs(unzip_path,exist_ok=True)\n",
    "        print(self.config.local_data_file)\n",
    "        with zipfile.ZipFile(self.config.local_data_file, 'r') as zip_ref:\n",
    "            zip_ref.extractall(unzip_path)"
   ]
  },
  {
   "cell_type": "code",
   "execution_count": 60,
   "metadata": {},
   "outputs": [
    {
     "name": "stdout",
     "output_type": "stream",
     "text": [
      "[2023-10-14 01:23:09,469: INFO: common] yaml file config\\config.yaml loaded successfully\n",
      "[2023-10-14 01:23:09,473: INFO: common] yaml file params.yaml loaded successfully\n",
      "[2023-10-14 01:23:09,477: INFO: common] directory artifacts created successfully\n",
      "[2023-10-14 01:23:09,480: INFO: common] directory artifacts/data_ingestion created successfully\n",
      "[2023-10-14 01:23:11,576: INFO: 2778599288] Downloaded file\n",
      "artifacts/data_ingestion/data.zip\n"
     ]
    },
    {
     "ename": "FileNotFoundError",
     "evalue": "[Errno 2] No such file or directory: 'artifacts/data_ingestion/data.zip'",
     "output_type": "error",
     "traceback": [
      "\u001b[1;31m---------------------------------------------------------------------------\u001b[0m",
      "\u001b[1;31mFileNotFoundError\u001b[0m                         Traceback (most recent call last)",
      "\u001b[1;32md:\\AkshatOP\\InShorts\\research\\01_data_ingestion.ipynb Cell 8\u001b[0m line \u001b[0;36m8\n\u001b[0;32m      <a href='vscode-notebook-cell:/d%3A/AkshatOP/InShorts/research/01_data_ingestion.ipynb#X10sZmlsZQ%3D%3D?line=5'>6</a>\u001b[0m     data_ingestion\u001b[39m.\u001b[39mextract_zip_file()\n\u001b[0;32m      <a href='vscode-notebook-cell:/d%3A/AkshatOP/InShorts/research/01_data_ingestion.ipynb#X10sZmlsZQ%3D%3D?line=6'>7</a>\u001b[0m \u001b[39mexcept\u001b[39;00m \u001b[39mException\u001b[39;00m \u001b[39mas\u001b[39;00m e:\n\u001b[1;32m----> <a href='vscode-notebook-cell:/d%3A/AkshatOP/InShorts/research/01_data_ingestion.ipynb#X10sZmlsZQ%3D%3D?line=7'>8</a>\u001b[0m     \u001b[39mraise\u001b[39;00m e\n",
      "\u001b[1;32md:\\AkshatOP\\InShorts\\research\\01_data_ingestion.ipynb Cell 8\u001b[0m line \u001b[0;36m6\n\u001b[0;32m      <a href='vscode-notebook-cell:/d%3A/AkshatOP/InShorts/research/01_data_ingestion.ipynb#X10sZmlsZQ%3D%3D?line=3'>4</a>\u001b[0m     data_ingestion \u001b[39m=\u001b[39m DataIngestion(config\u001b[39m=\u001b[39mdata_ingestion_config)\n\u001b[0;32m      <a href='vscode-notebook-cell:/d%3A/AkshatOP/InShorts/research/01_data_ingestion.ipynb#X10sZmlsZQ%3D%3D?line=4'>5</a>\u001b[0m     data_ingestion\u001b[39m.\u001b[39mdownload_file()\n\u001b[1;32m----> <a href='vscode-notebook-cell:/d%3A/AkshatOP/InShorts/research/01_data_ingestion.ipynb#X10sZmlsZQ%3D%3D?line=5'>6</a>\u001b[0m     data_ingestion\u001b[39m.\u001b[39;49mextract_zip_file()\n\u001b[0;32m      <a href='vscode-notebook-cell:/d%3A/AkshatOP/InShorts/research/01_data_ingestion.ipynb#X10sZmlsZQ%3D%3D?line=6'>7</a>\u001b[0m \u001b[39mexcept\u001b[39;00m \u001b[39mException\u001b[39;00m \u001b[39mas\u001b[39;00m e:\n\u001b[0;32m      <a href='vscode-notebook-cell:/d%3A/AkshatOP/InShorts/research/01_data_ingestion.ipynb#X10sZmlsZQ%3D%3D?line=7'>8</a>\u001b[0m     \u001b[39mraise\u001b[39;00m e\n",
      "\u001b[1;32md:\\AkshatOP\\InShorts\\research\\01_data_ingestion.ipynb Cell 8\u001b[0m line \u001b[0;36m1\n\u001b[0;32m     <a href='vscode-notebook-cell:/d%3A/AkshatOP/InShorts/research/01_data_ingestion.ipynb#X10sZmlsZQ%3D%3D?line=15'>16</a>\u001b[0m os\u001b[39m.\u001b[39mmakedirs(unzip_path,exist_ok\u001b[39m=\u001b[39m\u001b[39mTrue\u001b[39;00m)\n\u001b[0;32m     <a href='vscode-notebook-cell:/d%3A/AkshatOP/InShorts/research/01_data_ingestion.ipynb#X10sZmlsZQ%3D%3D?line=16'>17</a>\u001b[0m \u001b[39mprint\u001b[39m(\u001b[39mself\u001b[39m\u001b[39m.\u001b[39mconfig\u001b[39m.\u001b[39mlocal_data_file)\n\u001b[1;32m---> <a href='vscode-notebook-cell:/d%3A/AkshatOP/InShorts/research/01_data_ingestion.ipynb#X10sZmlsZQ%3D%3D?line=17'>18</a>\u001b[0m \u001b[39mwith\u001b[39;00m zipfile\u001b[39m.\u001b[39;49mZipFile(\u001b[39mself\u001b[39;49m\u001b[39m.\u001b[39;49mconfig\u001b[39m.\u001b[39;49mlocal_data_file, \u001b[39m'\u001b[39;49m\u001b[39mr\u001b[39;49m\u001b[39m'\u001b[39;49m) \u001b[39mas\u001b[39;00m zip_ref:\n\u001b[0;32m     <a href='vscode-notebook-cell:/d%3A/AkshatOP/InShorts/research/01_data_ingestion.ipynb#X10sZmlsZQ%3D%3D?line=18'>19</a>\u001b[0m     zip_ref\u001b[39m.\u001b[39mextractall(unzip_path)\n",
      "File \u001b[1;32mc:\\Users\\Akshat\\.conda\\envs\\textSum\\lib\\zipfile.py:1251\u001b[0m, in \u001b[0;36mZipFile.__init__\u001b[1;34m(self, file, mode, compression, allowZip64, compresslevel, strict_timestamps)\u001b[0m\n\u001b[0;32m   1249\u001b[0m \u001b[39mwhile\u001b[39;00m \u001b[39mTrue\u001b[39;00m:\n\u001b[0;32m   1250\u001b[0m     \u001b[39mtry\u001b[39;00m:\n\u001b[1;32m-> 1251\u001b[0m         \u001b[39mself\u001b[39m\u001b[39m.\u001b[39mfp \u001b[39m=\u001b[39m io\u001b[39m.\u001b[39;49mopen(file, filemode)\n\u001b[0;32m   1252\u001b[0m     \u001b[39mexcept\u001b[39;00m \u001b[39mOSError\u001b[39;00m:\n\u001b[0;32m   1253\u001b[0m         \u001b[39mif\u001b[39;00m filemode \u001b[39min\u001b[39;00m modeDict:\n",
      "\u001b[1;31mFileNotFoundError\u001b[0m: [Errno 2] No such file or directory: 'artifacts/data_ingestion/data.zip'"
     ]
    }
   ],
   "source": [
    "try:\n",
    "    config = ConfigurationManager()\n",
    "    data_ingestion_config = config.get_data_ingestion_config()\n",
    "    data_ingestion = DataIngestion(config=data_ingestion_config)\n",
    "    data_ingestion.download_file()\n",
    "    data_ingestion.extract_zip_file()\n",
    "except Exception as e:\n",
    "    raise e"
   ]
  },
  {
   "cell_type": "code",
   "execution_count": 10,
   "metadata": {},
   "outputs": [],
   "source": [
    "os.chdir(\"../\")"
   ]
  },
  {
   "cell_type": "code",
   "execution_count": 11,
   "metadata": {},
   "outputs": [
    {
     "data": {
      "text/plain": [
       "'d:\\\\AkshatOP\\\\InShorts'"
      ]
     },
     "execution_count": 11,
     "metadata": {},
     "output_type": "execute_result"
    }
   ],
   "source": [
    "%pwd"
   ]
  },
  {
   "cell_type": "code",
   "execution_count": 50,
   "metadata": {},
   "outputs": [],
   "source": [
    "import requests"
   ]
  },
  {
   "cell_type": "code",
   "execution_count": 69,
   "metadata": {},
   "outputs": [
    {
     "data": {
      "text/plain": [
       "<Response [200]>"
      ]
     },
     "execution_count": 69,
     "metadata": {},
     "output_type": "execute_result"
    }
   ],
   "source": [
    "r = requests.get('https://github.com/akshats911/dataFolder/blob/69d614f5fd5d89cf13c1e56f803f57ef1abb7535/SAMSUM.zip', proxies={\"http\":\"http://61.233.25.166:80\"})\n",
    "r"
   ]
  },
  {
   "cell_type": "code",
   "execution_count": 70,
   "metadata": {},
   "outputs": [
    {
     "data": {
      "text/plain": [
       "b'{\"payload\":{\"allShortcutsEnabled\":false,\"fileTree\":{\"\":{\"items\":[{\"name\":\"README.md\",\"path\":\"README.md\",\"contentType\":\"file\"},{\"name\":\"SAMSUM.zip\",\"path\":\"SAMSUM.zip\",\"contentType\":\"file\"}],\"totalCount\":2}},\"fileTreeProcessingTime\":1.237806,\"foldersToFetch\":[],\"reducedMotionEnabled\":null,\"repo\":{\"id\":704659688,\"defaultBranch\":\"main\",\"name\":\"dataFolder\",\"ownerLogin\":\"akshats911\",\"currentUserCanPush\":false,\"isFork\":false,\"isEmpty\":false,\"createdAt\":\"2023-10-13T18:52:29.000Z\",\"ownerAvatar\":\"https://avatars.githubusercontent.com/u/93038242?v=4\",\"public\":true,\"private\":false,\"isOrgOwned\":false},\"symbolsExpanded\":false,\"treeExpanded\":true,\"refInfo\":{\"name\":\"69d614f5fd5d89cf13c1e56f803f57ef1abb7535\",\"listCacheKey\":\"v0:1697223236.0\",\"canEdit\":false,\"refType\":\"tree\",\"currentOid\":\"69d614f5fd5d89cf13c1e56f803f57ef1abb7535\"},\"path\":\"SAMSUM.zip\",\"currentUser\":null,\"blob\":{\"rawLines\":null,\"stylingDirectives\":[],\"csv\":null,\"csvError\":null,\"dependabotInfo\":{\"showConfigurationBanner\":false,\"configFilePath\":null,\"networkDependabotPath\":\"/akshats911/dataFolder/network/updates\",\"dismissConfigurationNoticePath\":\"/settings/dismiss-notice/dependabot_configuration_notice\",\"configurationNoticeDismissed\":null,\"repoAlertsPath\":\"/akshats911/dataFolder/security/dependabot\",\"repoSecurityAndAnalysisPath\":\"/akshats911/dataFolder/settings/security_analysis\",\"repoOwnerIsOrg\":false,\"currentUserCanAdminRepo\":false},\"displayName\":\"SAMSUM.zip\",\"displayUrl\":\"https://github.com/akshats911/dataFolder/blob/69d614f5fd5d89cf13c1e56f803f57ef1abb7535/SAMSUM.zip?raw=true\",\"headerInfo\":{\"blobSize\":\"3.91 MB\",\"deleteInfo\":{\"deleteTooltip\":\"You must be signed in to make or propose changes\"},\"editInfo\":{\"editTooltip\":\"You must be signed in to make or propose changes\"},\"ghDesktopPath\":null,\"gitLfsPath\":null,\"onBranch\":false,\"shortPath\":\"fea424e\",\"siteNavLoginPath\":\"/login?return_to=https%3A%2F%2Fgithub.com%2Fakshats911%2FdataFolder%2Fblob%2F69d614f5fd5d89cf13c1e56f803f57ef1abb7535%2FSAMSUM.zip\",\"isCSV\":false,\"isRichtext\":false,\"toc\":null,\"lineInfo\":{\"truncatedLoc\":null,\"truncatedSloc\":null},\"mode\":\"file\"},\"image\":false,\"isCodeownersFile\":null,\"isPlain\":false,\"isValidLegacyIssueTemplate\":false,\"issueTemplateHelpUrl\":\"https://docs.github.com/articles/about-issue-and-pull-request-templates\",\"issueTemplate\":null,\"discussionTemplate\":null,\"language\":null,\"languageID\":null,\"large\":true,\"loggedIn\":false,\"newDiscussionPath\":\"/akshats911/dataFolder/discussions/new\",\"newIssuePath\":\"/akshats911/dataFolder/issues/new\",\"planSupportInfo\":{\"repoIsFork\":null,\"repoOwnedByCurrentUser\":null,\"requestFullPath\":\"/akshats911/dataFolder/blob/69d614f5fd5d89cf13c1e56f803f57ef1abb7535/SAMSUM.zip\",\"showFreeOrgGatedFeatureMessage\":null,\"showPlanSupportBanner\":null,\"upgradeDataAttributes\":null,\"upgradePath\":null},\"publishBannersInfo\":{\"dismissActionNoticePath\":\"/settings/dismiss-notice/publish_action_from_dockerfile\",\"dismissStackNoticePath\":\"/settings/dismiss-notice/publish_stack_from_file\",\"releasePath\":\"/akshats911/dataFolder/releases/new?marketplace=true\",\"showPublishActionBanner\":false,\"showPublishStackBanner\":false},\"rawBlobUrl\":\"https://github.com/akshats911/dataFolder/raw/69d614f5fd5d89cf13c1e56f803f57ef1abb7535/SAMSUM.zip\",\"renderImageOrRaw\":true,\"richText\":null,\"renderedFileInfo\":null,\"shortPath\":null,\"tabSize\":8,\"topBannersInfo\":{\"overridingGlobalFundingFile\":false,\"globalPreferredFundingPath\":null,\"repoOwner\":\"akshats911\",\"repoName\":\"dataFolder\",\"showInvalidCitationWarning\":false,\"citationHelpUrl\":\"https://docs.github.com/en/github/creating-cloning-and-archiving-repositories/creating-a-repository-on-github/about-citation-files\",\"showDependabotConfigurationBanner\":false,\"actionsOnboardingTip\":null},\"truncated\":true,\"viewable\":false,\"workflowRedirectUrl\":null,\"symbols\":{\"timedOut\":true,\"notAnalyzed\":true,\"symbols\":[],\"error\":{\"code\":\"invalid_argument\",\"msg\":\"content required\",\"meta\":{}}}},\"copilotInfo\":null,\"csrf_tokens\":{\"/akshats911/dataFolder/branches\":{\"post\":\"5Xh2RsBjiW5oxyDCzvwQr-kLRFAjkhKN1SZz8IfmmaF43arX9siRUzTQxFEq01O09HIWhb4Dyl8-dGULW0RFbA\"},\"/repos/preferences\":{\"post\":\"N-bbH7zYNzaP6LDztA4FC38FbdPePgnUZmg0U8UxmtTSAWK1VmeunLQ3Mw1JzEJBkYD3i7Q1GKcmEUZxifDwPw\"}}},\"title\":\"dataFolder/SAMSUM.zip at 69d614f5fd5d89cf13c1e56f803f57ef1abb7535 \\xc2\\xb7 akshats911/dataFolder\"}'"
      ]
     },
     "execution_count": 70,
     "metadata": {},
     "output_type": "execute_result"
    }
   ],
   "source": [
    "r.content"
   ]
  },
  {
   "cell_type": "code",
   "execution_count": null,
   "metadata": {},
   "outputs": [],
   "source": [
    "b'{\"payload\":{\"allShortcutsEnabled\":false,\"fileTree\":{\"\":{\"items\":[{\"name\":\"README.md\",\"path\":\"README.md\",\"contentType\":\"file\"},{\"name\":\"SAMSUM.zip\",\"path\":\"SAMSUM.zip\",\"contentType\":\"file\"}],\"totalCount\":2}},\"fileTreeProcessingTime\":1.237806,\"foldersToFetch\":[],\"reducedMotionEnabled\":null,\"repo\":{\"id\":704659688,\"defaultBranch\":\"main\",\"name\":\"dataFolder\",\"ownerLogin\":\"akshats911\",\"currentUserCanPush\":false,\"isFork\":false,\"isEmpty\":false,\"createdAt\":\"2023-10-13T18:52:29.000Z\",\"ownerAvatar\":\"https://avatars.githubusercontent.com/u/93038242?v=4\",\"public\":true,\"private\":false,\"isOrgOwned\":false},\"symbolsExpanded\":false,\"treeExpanded\":true,\"refInfo\":{\"name\":\"69d614f5fd5d89cf13c1e56f803f57ef1abb7535\",\"listCacheKey\":\"v0:1697223236.0\",\"canEdit\":false,\"refType\":\"tree\",\"currentOid\":\"69d614f5fd5d89cf13c1e56f803f57ef1abb7535\"},\"path\":\"SAMSUM.zip\",\"currentUser\":null,\"blob\":{\"rawLines\":null,\"stylingDirectives\":[],\"csv\":null,\"csvError\":null,\"dependabotInfo\":{\"showConfigurationBanner\":false,\"configFilePath\":null,\"networkDependabotPath\":\"/akshats911/dataFolder/network/updates\",\"dismissConfigurationNoticePath\":\"/settings/dismiss-notice/dependabot_configuration_notice\",\"configurationNoticeDismissed\":null,\"repoAlertsPath\":\"/akshats911/dataFolder/security/dependabot\",\"repoSecurityAndAnalysisPath\":\"/akshats911/dataFolder/settings/security_analysis\",\"repoOwnerIsOrg\":false,\"currentUserCanAdminRepo\":false},\"displayName\":\"SAMSUM.zip\",\"displayUrl\":\"https://github.com/akshats911/dataFolder/blob/69d614f5fd5d89cf13c1e56f803f57ef1abb7535/SAMSUM.zip?raw=true\",\"headerInfo\":{\"blobSize\":\"3.91 MB\",\"deleteInfo\":{\"deleteTooltip\":\"You must be signed in to make or propose changes\"},\"editInfo\":{\"editTooltip\":\"You must be signed in to make or propose changes\"},\"ghDesktopPath\":null,\"gitLfsPath\":null,\"onBranch\":false,\"shortPath\":\"fea424e\",\"siteNavLoginPath\":\"/login?return_to=https%3A%2F%2Fgithub.com%2Fakshats911%2FdataFolder%2Fblob%2F69d614f5fd5d89cf13c1e56f803f57ef1abb7535%2FSAMSUM.zip\",\"isCSV\":false,\"isRichtext\":false,\"toc\":null,\"lineInfo\":{\"truncatedLoc\":null,\"truncatedSloc\":null},\"mode\":\"file\"},\"image\":false,\"isCodeownersFile\":null,\"isPlain\":false,\"isValidLegacyIssueTemplate\":false,\"issueTemplateHelpUrl\":\"https://docs.github.com/articles/about-issue-and-pull-request-templates\",\"issueTemplate\":null,\"discussionTemplate\":null,\"language\":null,\"languageID\":null,\"large\":true,\"loggedIn\":false,\"newDiscussionPath\":\"/akshats911/dataFolder/discussions/new\",\"newIssuePath\":\"/akshats911/dataFolder/issues/new\",\"planSupportInfo\":{\"repoIsFork\":null,\"repoOwnedByCurrentUser\":null,\"requestFullPath\":\"/akshats911/dataFolder/blob/69d614f5fd5d89cf13c1e56f803f57ef1abb7535/SAMSUM.zip\",\"showFreeOrgGatedFeatureMessage\":null,\"showPlanSupportBanner\":null,\"upgradeDataAttributes\":null,\"upgradePath\":null},\"publishBannersInfo\":{\"dismissActionNoticePath\":\"/settings/dismiss-notice/publish_action_from_dockerfile\",\"dismissStackNoticePath\":\"/settings/dismiss-notice/publish_stack_from_file\",\"releasePath\":\"/akshats911/dataFolder/releases/new?marketplace=true\",\"showPublishActionBanner\":false,\"showPublishStackBanner\":false},\"rawBlobUrl\":\"https://github.com/akshats911/dataFolder/raw/69d614f5fd5d89cf13c1e56f803f57ef1abb7535/SAMSUM.zip\",\"renderImageOrRaw\":true,\"richText\":null,\"renderedFileInfo\":null,\"shortPath\":null,\"tabSize\":8,\"topBannersInfo\":{\"overridingGlobalFundingFile\":false,\"globalPreferredFundingPath\":null,\"repoOwner\":\"akshats911\",\"repoName\":\"dataFolder\",\"showInvalidCitationWarning\":false,\"citationHelpUrl\":\"https://docs.github.com/en/github/creating-cloning-and-archiving-repositories/creating-a-repository-on-github/about-citation-files\",\"showDependabotConfigurationBanner\":false,\"actionsOnboardingTip\":null},\"truncated\":true,\"viewable\":false,\"workflowRedirectUrl\":null,\"symbols\":{\"timedOut\":true,\"notAnalyzed\":true,\"symbols\":[],\"error\":{\"code\":\"invalid_argument\",\"msg\":\"content required\",\"meta\":{}}}},\"copilotInfo\":null,\"csrf_tokens\":{\"/akshats911/dataFolder/branches\":{\"post\":\"5Xh2RsBjiW5oxyDCzvwQr-kLRFAjkhKN1SZz8IfmmaF43arX9siRUzTQxFEq01O09HIWhb4Dyl8-dGULW0RFbA\"},\"/repos/preferences\":{\"post\":\"N-bbH7zYNzaP6LDztA4FC38FbdPePgnUZmg0U8UxmtTSAWK1VmeunLQ3Mw1JzEJBkYD3i7Q1GKcmEUZxifDwPw\"}}},\"title\":\"dataFolder/SAMSUM.zip at 69d614f5fd5d89cf13c1e56f803f57ef1abb7535 \\xc2\\xb7 akshats911/dataFolder\"}'"
   ]
  },
  {
   "cell_type": "code",
   "execution_count": 75,
   "metadata": {},
   "outputs": [
    {
     "ename": "AttributeError",
     "evalue": "'bytes' object has no attribute 'payload'",
     "output_type": "error",
     "traceback": [
      "\u001b[1;31m---------------------------------------------------------------------------\u001b[0m",
      "\u001b[1;31mAttributeError\u001b[0m                            Traceback (most recent call last)",
      "\u001b[1;32md:\\AkshatOP\\InShorts\\research\\01_data_ingestion.ipynb Cell 15\u001b[0m line \u001b[0;36m1\n\u001b[1;32m----> <a href='vscode-notebook-cell:/d%3A/AkshatOP/InShorts/research/01_data_ingestion.ipynb#X22sZmlsZQ%3D%3D?line=0'>1</a>\u001b[0m r\u001b[39m.\u001b[39;49mcontent\u001b[39m.\u001b[39;49mpayload\n",
      "\u001b[1;31mAttributeError\u001b[0m: 'bytes' object has no attribute 'payload'"
     ]
    }
   ],
   "source": [
    "r.content.payload"
   ]
  }
 ],
 "metadata": {
  "kernelspec": {
   "display_name": "textSum",
   "language": "python",
   "name": "python3"
  },
  "language_info": {
   "codemirror_mode": {
    "name": "ipython",
    "version": 3
   },
   "file_extension": ".py",
   "mimetype": "text/x-python",
   "name": "python",
   "nbconvert_exporter": "python",
   "pygments_lexer": "ipython3",
   "version": "3.8.18"
  }
 },
 "nbformat": 4,
 "nbformat_minor": 2
}
